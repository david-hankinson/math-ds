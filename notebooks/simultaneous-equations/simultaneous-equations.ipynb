{
 "cells": [
  {
   "cell_type": "code",
   "execution_count": 14,
   "id": "da9b76ba-57fc-40b7-97b5-b844f4f32060",
   "metadata": {
    "collapsed": true,
    "jupyter": {
     "outputs_hidden": true
    }
   },
   "outputs": [
    {
     "name": "stdout",
     "output_type": "stream",
     "text": [
      "The root of this equation is: x=3.0 and x=2.0\n"
     ]
    }
   ],
   "source": [
    "# Solve this equation by the quadratic formula\n",
    "# x^2 - 5x + 6 = 0\n",
    "# ax + bx + c = 0\n",
    "# a = 1, b = -5, c = 6 \n",
    "# x = 3 or x = 2\n",
    "\n",
    "import math\n",
    "\n",
    "a = 1\n",
    "b = -5\n",
    "c = 6\n",
    "\n",
    "x1 = (-b + math.sqrt(b**2-4*a*c))/2*a\n",
    "x2 = (-b - math.sqrt(b**2-4*a*c))/2*a\n",
    "\n",
    "print(f\"The root of this equation is: x={x1} and x={x2}\")"
   ]
  },
  {
   "cell_type": "code",
   "execution_count": 19,
   "id": "65bae888-d0f6-42ea-929a-ef8c84cc7f6b",
   "metadata": {},
   "outputs": [
    {
     "data": {
      "text/plain": [
       "'The root of this equation is: x=3.0 and x=2.0'"
      ]
     },
     "execution_count": 19,
     "metadata": {},
     "output_type": "execute_result"
    }
   ],
   "source": [
    "# Write function\n",
    "\n",
    "def quadratic_formula(a, b, c):\n",
    "    x1 = (-b + math.sqrt(b**2-4*a*c))/2*a\n",
    "    x2 = (-b - math.sqrt(b**2-4*a*c))/2*a\n",
    "    return(f\"The root of this equation is: x={x1} and x={x2}\")\n",
    "\n",
    "quadratic_formula(1,-5,6)"
   ]
  },
  {
   "cell_type": "code",
   "execution_count": 65,
   "id": "0e13d591-fb61-4038-9d8f-9839987e9eaf",
   "metadata": {},
   "outputs": [
    {
     "name": "stdout",
     "output_type": "stream",
     "text": [
      "((-0.75+0.6614378277661477j), (-0.75-0.6614378277661477j))\n",
      "The root of this equation is: x=3.0 and x=2.0\n",
      "2.0\n"
     ]
    }
   ],
   "source": [
    "import math\n",
    "\n",
    "class Quadratic_formula:\n",
    "    def __init__(self,a,b,c):\n",
    "        self.a = a\n",
    "        self.b = b\n",
    "        self.c = c\n",
    "\n",
    "    def solve_function(self):\n",
    "        discriminant = self.b**2 - 4*self.a*self.c\n",
    "        if discriminant > 0:\n",
    "            x1 = (-self.b + math.sqrt(discriminant))/2*self.a\n",
    "            x2 = (-self.b - math.sqrt(discriminant))/2*self.a\n",
    "            return(f\"The root of this equation is: x={x1} and x={x2}\")\n",
    "        elif discriminant < 0:\n",
    "            real_path = -self.b/(2*self.a)\n",
    "            imaginary_path = math.sqrt(-discriminant)/(2*self.a)\n",
    "            root_1 = complex(real_path,imaginary_path)\n",
    "            root_2 = complex(real_path,-imaginary_path)\n",
    "            return root_1, root_2\n",
    "        else: \n",
    "            root = -self.b/(2*self.a)\n",
    "            return root\n",
    "\n",
    "\n",
    "\n",
    "x = Quadratic_formula(2,3,2)\n",
    "x2 = Quadratic_formula(1,-5,6)\n",
    "x3 = Quadratic_formula(1,-4,4)\n",
    "\n",
    "final_value = x.solve_function()\n",
    "final_value2 = x2.solve_function()\n",
    "final_value3 = x3.solve_function()\n",
    "\n",
    "print(final_value)\n",
    "print(final_value2)\n",
    "print(final_value3)\n",
    "    "
   ]
  }
 ],
 "metadata": {
  "kernelspec": {
   "display_name": "Python 3 (ipykernel)",
   "language": "python",
   "name": "python3"
  },
  "language_info": {
   "codemirror_mode": {
    "name": "ipython",
    "version": 3
   },
   "file_extension": ".py",
   "mimetype": "text/x-python",
   "name": "python",
   "nbconvert_exporter": "python",
   "pygments_lexer": "ipython3",
   "version": "3.12.4"
  }
 },
 "nbformat": 4,
 "nbformat_minor": 5
}
